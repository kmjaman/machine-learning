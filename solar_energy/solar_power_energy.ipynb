{
 "cells": [
  {
   "cell_type": "code",
   "execution_count": 1,
   "id": "66ec14df-1a12-435e-b05c-0fb43bcdebf3",
   "metadata": {},
   "outputs": [],
   "source": [
    "import pandas as pd\n",
    "import numpy as np\n",
    "import matplotlib.pyplot as plt\n",
    "# display plots in Jupyter Notebooks\n",
    "%matplotlib inline\n",
    "# make this notebook's output stable across runs\n",
    "n = np.random.seed(42)"
   ]
  },
  {
   "cell_type": "code",
   "execution_count": 2,
   "id": "d211351e-75c0-4196-8915-ecf8c03f52e2",
   "metadata": {},
   "outputs": [],
   "source": [
    "# Load the dataset\n",
    "data = pd.read_csv('solar_plant.csv')"
   ]
  },
  {
   "cell_type": "code",
   "execution_count": 3,
   "id": "c447d8c0-2c3e-438d-8cc8-3c835de749a2",
   "metadata": {},
   "outputs": [
    {
     "data": {
      "text/html": [
       "<div>\n",
       "<style scoped>\n",
       "    .dataframe tbody tr th:only-of-type {\n",
       "        vertical-align: middle;\n",
       "    }\n",
       "\n",
       "    .dataframe tbody tr th {\n",
       "        vertical-align: top;\n",
       "    }\n",
       "\n",
       "    .dataframe thead th {\n",
       "        text-align: right;\n",
       "    }\n",
       "</style>\n",
       "<table border=\"1\" class=\"dataframe\">\n",
       "  <thead>\n",
       "    <tr style=\"text-align: right;\">\n",
       "      <th></th>\n",
       "      <th>Time</th>\n",
       "      <th>SolarIrradiance_W/m^2</th>\n",
       "      <th>PanelTemperature_C</th>\n",
       "      <th>EnergyGenerated_kWh</th>\n",
       "    </tr>\n",
       "  </thead>\n",
       "  <tbody>\n",
       "    <tr>\n",
       "      <th>0</th>\n",
       "      <td>2024-08-25 00:00:00</td>\n",
       "      <td>0.0</td>\n",
       "      <td>15.798492</td>\n",
       "      <td>18.594361</td>\n",
       "    </tr>\n",
       "    <tr>\n",
       "      <th>1</th>\n",
       "      <td>2024-08-25 01:00:00</td>\n",
       "      <td>0.0</td>\n",
       "      <td>15.000000</td>\n",
       "      <td>0.000000</td>\n",
       "    </tr>\n",
       "    <tr>\n",
       "      <th>2</th>\n",
       "      <td>2024-08-25 02:00:00</td>\n",
       "      <td>0.0</td>\n",
       "      <td>15.000000</td>\n",
       "      <td>0.000000</td>\n",
       "    </tr>\n",
       "    <tr>\n",
       "      <th>3</th>\n",
       "      <td>2024-08-25 03:00:00</td>\n",
       "      <td>0.0</td>\n",
       "      <td>15.000000</td>\n",
       "      <td>6.648442</td>\n",
       "    </tr>\n",
       "    <tr>\n",
       "      <th>4</th>\n",
       "      <td>2024-08-25 04:00:00</td>\n",
       "      <td>0.0</td>\n",
       "      <td>15.000000</td>\n",
       "      <td>2.292918</td>\n",
       "    </tr>\n",
       "  </tbody>\n",
       "</table>\n",
       "</div>"
      ],
      "text/plain": [
       "                  Time  SolarIrradiance_W/m^2  PanelTemperature_C  \\\n",
       "0  2024-08-25 00:00:00                    0.0           15.798492   \n",
       "1  2024-08-25 01:00:00                    0.0           15.000000   \n",
       "2  2024-08-25 02:00:00                    0.0           15.000000   \n",
       "3  2024-08-25 03:00:00                    0.0           15.000000   \n",
       "4  2024-08-25 04:00:00                    0.0           15.000000   \n",
       "\n",
       "   EnergyGenerated_kWh  \n",
       "0            18.594361  \n",
       "1             0.000000  \n",
       "2             0.000000  \n",
       "3             6.648442  \n",
       "4             2.292918  "
      ]
     },
     "execution_count": 3,
     "metadata": {},
     "output_type": "execute_result"
    }
   ],
   "source": [
    "data.head()"
   ]
  },
  {
   "cell_type": "code",
   "execution_count": 4,
   "id": "e622f245-733d-488f-a1cb-d511ba73f18c",
   "metadata": {},
   "outputs": [
    {
     "name": "stdout",
     "output_type": "stream",
     "text": [
      "<class 'pandas.core.frame.DataFrame'>\n",
      "RangeIndex: 100 entries, 0 to 99\n",
      "Data columns (total 4 columns):\n",
      " #   Column                 Non-Null Count  Dtype  \n",
      "---  ------                 --------------  -----  \n",
      " 0   Time                   100 non-null    object \n",
      " 1   SolarIrradiance_W/m^2  100 non-null    float64\n",
      " 2   PanelTemperature_C     100 non-null    float64\n",
      " 3   EnergyGenerated_kWh    100 non-null    float64\n",
      "dtypes: float64(3), object(1)\n",
      "memory usage: 3.3+ KB\n"
     ]
    }
   ],
   "source": [
    "data.info()"
   ]
  },
  {
   "cell_type": "code",
   "execution_count": 5,
   "id": "2f14e3fb-a088-4ce3-8c68-449fc02d8831",
   "metadata": {},
   "outputs": [],
   "source": [
    "# Preprocess the data\n",
    "data['Time'] = pd.to_datetime(data['Time']).dt.hour\n",
    "data['SolarIrradiance_W/m^2'] = data['SolarIrradiance_W/m^2'].round(2)\n",
    "data['PanelTemperature_C'] = data['PanelTemperature_C'].round(0).astype(int)\n",
    "data['EnergyGenerated_kWh'] = data['EnergyGenerated_kWh'].round(2)"
   ]
  },
  {
   "cell_type": "code",
   "execution_count": 6,
   "id": "a886b1b7-fd50-4424-94e9-eacbc8bba44e",
   "metadata": {},
   "outputs": [
    {
     "data": {
      "text/html": [
       "<div>\n",
       "<style scoped>\n",
       "    .dataframe tbody tr th:only-of-type {\n",
       "        vertical-align: middle;\n",
       "    }\n",
       "\n",
       "    .dataframe tbody tr th {\n",
       "        vertical-align: top;\n",
       "    }\n",
       "\n",
       "    .dataframe thead th {\n",
       "        text-align: right;\n",
       "    }\n",
       "</style>\n",
       "<table border=\"1\" class=\"dataframe\">\n",
       "  <thead>\n",
       "    <tr style=\"text-align: right;\">\n",
       "      <th></th>\n",
       "      <th>Time</th>\n",
       "      <th>SolarIrradiance_W/m^2</th>\n",
       "      <th>PanelTemperature_C</th>\n",
       "      <th>EnergyGenerated_kWh</th>\n",
       "    </tr>\n",
       "  </thead>\n",
       "  <tbody>\n",
       "    <tr>\n",
       "      <th>0</th>\n",
       "      <td>0</td>\n",
       "      <td>0.0</td>\n",
       "      <td>16</td>\n",
       "      <td>18.59</td>\n",
       "    </tr>\n",
       "    <tr>\n",
       "      <th>1</th>\n",
       "      <td>1</td>\n",
       "      <td>0.0</td>\n",
       "      <td>15</td>\n",
       "      <td>0.00</td>\n",
       "    </tr>\n",
       "    <tr>\n",
       "      <th>2</th>\n",
       "      <td>2</td>\n",
       "      <td>0.0</td>\n",
       "      <td>15</td>\n",
       "      <td>0.00</td>\n",
       "    </tr>\n",
       "    <tr>\n",
       "      <th>3</th>\n",
       "      <td>3</td>\n",
       "      <td>0.0</td>\n",
       "      <td>15</td>\n",
       "      <td>6.65</td>\n",
       "    </tr>\n",
       "    <tr>\n",
       "      <th>4</th>\n",
       "      <td>4</td>\n",
       "      <td>0.0</td>\n",
       "      <td>15</td>\n",
       "      <td>2.29</td>\n",
       "    </tr>\n",
       "  </tbody>\n",
       "</table>\n",
       "</div>"
      ],
      "text/plain": [
       "   Time  SolarIrradiance_W/m^2  PanelTemperature_C  EnergyGenerated_kWh\n",
       "0     0                    0.0                  16                18.59\n",
       "1     1                    0.0                  15                 0.00\n",
       "2     2                    0.0                  15                 0.00\n",
       "3     3                    0.0                  15                 6.65\n",
       "4     4                    0.0                  15                 2.29"
      ]
     },
     "execution_count": 6,
     "metadata": {},
     "output_type": "execute_result"
    }
   ],
   "source": [
    "data.head()"
   ]
  },
  {
   "cell_type": "code",
   "execution_count": 7,
   "id": "f0900cbc-f374-4f82-8711-58c3133507f9",
   "metadata": {},
   "outputs": [
    {
     "data": {
      "text/html": [
       "<div>\n",
       "<style scoped>\n",
       "    .dataframe tbody tr th:only-of-type {\n",
       "        vertical-align: middle;\n",
       "    }\n",
       "\n",
       "    .dataframe tbody tr th {\n",
       "        vertical-align: top;\n",
       "    }\n",
       "\n",
       "    .dataframe thead th {\n",
       "        text-align: right;\n",
       "    }\n",
       "</style>\n",
       "<table border=\"1\" class=\"dataframe\">\n",
       "  <thead>\n",
       "    <tr style=\"text-align: right;\">\n",
       "      <th></th>\n",
       "      <th>Time</th>\n",
       "      <th>SolarIrradiance_W/m^2</th>\n",
       "      <th>PanelTemperature_C</th>\n",
       "      <th>EnergyGenerated_kWh</th>\n",
       "    </tr>\n",
       "  </thead>\n",
       "  <tbody>\n",
       "    <tr>\n",
       "      <th>count</th>\n",
       "      <td>100.000000</td>\n",
       "      <td>100.000000</td>\n",
       "      <td>100.000000</td>\n",
       "      <td>100.000000</td>\n",
       "    </tr>\n",
       "    <tr>\n",
       "      <th>mean</th>\n",
       "      <td>11.100000</td>\n",
       "      <td>241.565600</td>\n",
       "      <td>18.340000</td>\n",
       "      <td>124.014800</td>\n",
       "    </tr>\n",
       "    <tr>\n",
       "      <th>std</th>\n",
       "      <td>7.098869</td>\n",
       "      <td>328.486508</td>\n",
       "      <td>4.247923</td>\n",
       "      <td>161.907688</td>\n",
       "    </tr>\n",
       "    <tr>\n",
       "      <th>min</th>\n",
       "      <td>0.000000</td>\n",
       "      <td>0.000000</td>\n",
       "      <td>15.000000</td>\n",
       "      <td>0.000000</td>\n",
       "    </tr>\n",
       "    <tr>\n",
       "      <th>25%</th>\n",
       "      <td>5.000000</td>\n",
       "      <td>0.000000</td>\n",
       "      <td>15.000000</td>\n",
       "      <td>0.915000</td>\n",
       "    </tr>\n",
       "    <tr>\n",
       "      <th>50%</th>\n",
       "      <td>11.000000</td>\n",
       "      <td>0.000000</td>\n",
       "      <td>16.000000</td>\n",
       "      <td>16.645000</td>\n",
       "    </tr>\n",
       "    <tr>\n",
       "      <th>75%</th>\n",
       "      <td>17.000000</td>\n",
       "      <td>491.592500</td>\n",
       "      <td>22.000000</td>\n",
       "      <td>240.990000</td>\n",
       "    </tr>\n",
       "    <tr>\n",
       "      <th>max</th>\n",
       "      <td>23.000000</td>\n",
       "      <td>1035.800000</td>\n",
       "      <td>28.000000</td>\n",
       "      <td>529.240000</td>\n",
       "    </tr>\n",
       "  </tbody>\n",
       "</table>\n",
       "</div>"
      ],
      "text/plain": [
       "             Time  SolarIrradiance_W/m^2  PanelTemperature_C  \\\n",
       "count  100.000000             100.000000          100.000000   \n",
       "mean    11.100000             241.565600           18.340000   \n",
       "std      7.098869             328.486508            4.247923   \n",
       "min      0.000000               0.000000           15.000000   \n",
       "25%      5.000000               0.000000           15.000000   \n",
       "50%     11.000000               0.000000           16.000000   \n",
       "75%     17.000000             491.592500           22.000000   \n",
       "max     23.000000            1035.800000           28.000000   \n",
       "\n",
       "       EnergyGenerated_kWh  \n",
       "count           100.000000  \n",
       "mean            124.014800  \n",
       "std             161.907688  \n",
       "min               0.000000  \n",
       "25%               0.915000  \n",
       "50%              16.645000  \n",
       "75%             240.990000  \n",
       "max             529.240000  "
      ]
     },
     "execution_count": 7,
     "metadata": {},
     "output_type": "execute_result"
    }
   ],
   "source": [
    "data.describe()"
   ]
  },
  {
   "cell_type": "code",
   "execution_count": 8,
   "id": "2e9d8f94-08a6-46a5-ad00-e64ebe6900ac",
   "metadata": {},
   "outputs": [
    {
     "data": {
      "text/html": [
       "<div>\n",
       "<style scoped>\n",
       "    .dataframe tbody tr th:only-of-type {\n",
       "        vertical-align: middle;\n",
       "    }\n",
       "\n",
       "    .dataframe tbody tr th {\n",
       "        vertical-align: top;\n",
       "    }\n",
       "\n",
       "    .dataframe thead th {\n",
       "        text-align: right;\n",
       "    }\n",
       "</style>\n",
       "<table border=\"1\" class=\"dataframe\">\n",
       "  <thead>\n",
       "    <tr style=\"text-align: right;\">\n",
       "      <th></th>\n",
       "      <th>Time</th>\n",
       "      <th>SolarIrradiance_W/m^2</th>\n",
       "      <th>PanelTemperature_C</th>\n",
       "      <th>EnergyGenerated_kWh</th>\n",
       "    </tr>\n",
       "  </thead>\n",
       "  <tbody>\n",
       "    <tr>\n",
       "      <th>count</th>\n",
       "      <td>100.000000</td>\n",
       "      <td>100.000000</td>\n",
       "      <td>100.000000</td>\n",
       "      <td>100.000000</td>\n",
       "    </tr>\n",
       "    <tr>\n",
       "      <th>mean</th>\n",
       "      <td>11.100000</td>\n",
       "      <td>241.565600</td>\n",
       "      <td>18.340000</td>\n",
       "      <td>124.014800</td>\n",
       "    </tr>\n",
       "    <tr>\n",
       "      <th>std</th>\n",
       "      <td>7.098869</td>\n",
       "      <td>328.486508</td>\n",
       "      <td>4.247923</td>\n",
       "      <td>161.907688</td>\n",
       "    </tr>\n",
       "    <tr>\n",
       "      <th>min</th>\n",
       "      <td>0.000000</td>\n",
       "      <td>0.000000</td>\n",
       "      <td>15.000000</td>\n",
       "      <td>0.000000</td>\n",
       "    </tr>\n",
       "    <tr>\n",
       "      <th>25%</th>\n",
       "      <td>5.000000</td>\n",
       "      <td>0.000000</td>\n",
       "      <td>15.000000</td>\n",
       "      <td>0.915000</td>\n",
       "    </tr>\n",
       "    <tr>\n",
       "      <th>50%</th>\n",
       "      <td>11.000000</td>\n",
       "      <td>0.000000</td>\n",
       "      <td>16.000000</td>\n",
       "      <td>16.645000</td>\n",
       "    </tr>\n",
       "    <tr>\n",
       "      <th>75%</th>\n",
       "      <td>17.000000</td>\n",
       "      <td>491.592500</td>\n",
       "      <td>22.000000</td>\n",
       "      <td>240.990000</td>\n",
       "    </tr>\n",
       "    <tr>\n",
       "      <th>max</th>\n",
       "      <td>23.000000</td>\n",
       "      <td>1035.800000</td>\n",
       "      <td>28.000000</td>\n",
       "      <td>529.240000</td>\n",
       "    </tr>\n",
       "  </tbody>\n",
       "</table>\n",
       "</div>"
      ],
      "text/plain": [
       "             Time  SolarIrradiance_W/m^2  PanelTemperature_C  \\\n",
       "count  100.000000             100.000000          100.000000   \n",
       "mean    11.100000             241.565600           18.340000   \n",
       "std      7.098869             328.486508            4.247923   \n",
       "min      0.000000               0.000000           15.000000   \n",
       "25%      5.000000               0.000000           15.000000   \n",
       "50%     11.000000               0.000000           16.000000   \n",
       "75%     17.000000             491.592500           22.000000   \n",
       "max     23.000000            1035.800000           28.000000   \n",
       "\n",
       "       EnergyGenerated_kWh  \n",
       "count           100.000000  \n",
       "mean            124.014800  \n",
       "std             161.907688  \n",
       "min               0.000000  \n",
       "25%               0.915000  \n",
       "50%              16.645000  \n",
       "75%             240.990000  \n",
       "max             529.240000  "
      ]
     },
     "execution_count": 8,
     "metadata": {},
     "output_type": "execute_result"
    }
   ],
   "source": [
    "data.describe(include='all')"
   ]
  },
  {
   "cell_type": "code",
   "execution_count": 9,
   "id": "a22b03ee-80c8-4e7c-b119-6f4036a2149d",
   "metadata": {},
   "outputs": [
    {
     "data": {
      "text/html": [
       "<div>\n",
       "<style scoped>\n",
       "    .dataframe tbody tr th:only-of-type {\n",
       "        vertical-align: middle;\n",
       "    }\n",
       "\n",
       "    .dataframe tbody tr th {\n",
       "        vertical-align: top;\n",
       "    }\n",
       "\n",
       "    .dataframe thead th {\n",
       "        text-align: right;\n",
       "    }\n",
       "</style>\n",
       "<table border=\"1\" class=\"dataframe\">\n",
       "  <thead>\n",
       "    <tr style=\"text-align: right;\">\n",
       "      <th></th>\n",
       "      <th>Time</th>\n",
       "      <th>SolarIrradiance_W/m^2</th>\n",
       "      <th>PanelTemperature_C</th>\n",
       "      <th>EnergyGenerated_kWh</th>\n",
       "    </tr>\n",
       "  </thead>\n",
       "  <tbody>\n",
       "    <tr>\n",
       "      <th>Time</th>\n",
       "      <td>1.000000</td>\n",
       "      <td>0.091383</td>\n",
       "      <td>0.086287</td>\n",
       "      <td>0.099789</td>\n",
       "    </tr>\n",
       "    <tr>\n",
       "      <th>SolarIrradiance_W/m^2</th>\n",
       "      <td>0.091383</td>\n",
       "      <td>1.000000</td>\n",
       "      <td>0.993514</td>\n",
       "      <td>0.998478</td>\n",
       "    </tr>\n",
       "    <tr>\n",
       "      <th>PanelTemperature_C</th>\n",
       "      <td>0.086287</td>\n",
       "      <td>0.993514</td>\n",
       "      <td>1.000000</td>\n",
       "      <td>0.991572</td>\n",
       "    </tr>\n",
       "    <tr>\n",
       "      <th>EnergyGenerated_kWh</th>\n",
       "      <td>0.099789</td>\n",
       "      <td>0.998478</td>\n",
       "      <td>0.991572</td>\n",
       "      <td>1.000000</td>\n",
       "    </tr>\n",
       "  </tbody>\n",
       "</table>\n",
       "</div>"
      ],
      "text/plain": [
       "                           Time  SolarIrradiance_W/m^2  PanelTemperature_C  \\\n",
       "Time                   1.000000               0.091383            0.086287   \n",
       "SolarIrradiance_W/m^2  0.091383               1.000000            0.993514   \n",
       "PanelTemperature_C     0.086287               0.993514            1.000000   \n",
       "EnergyGenerated_kWh    0.099789               0.998478            0.991572   \n",
       "\n",
       "                       EnergyGenerated_kWh  \n",
       "Time                              0.099789  \n",
       "SolarIrradiance_W/m^2             0.998478  \n",
       "PanelTemperature_C                0.991572  \n",
       "EnergyGenerated_kWh               1.000000  "
      ]
     },
     "execution_count": 9,
     "metadata": {},
     "output_type": "execute_result"
    }
   ],
   "source": [
    "#compute pairwise correlation of columns\n",
    "corr_matrix = data.corr()\n",
    "corr_matrix"
   ]
  },
  {
   "cell_type": "code",
   "execution_count": 10,
   "id": "47af4fe7-7218-4f7b-883b-7e3ed7f5fbb7",
   "metadata": {},
   "outputs": [
    {
     "data": {
      "text/plain": [
       "Time                     0.099789\n",
       "SolarIrradiance_W/m^2    0.998478\n",
       "PanelTemperature_C       0.991572\n",
       "EnergyGenerated_kWh      1.000000\n",
       "Name: EnergyGenerated_kWh, dtype: float64"
      ]
     },
     "execution_count": 10,
     "metadata": {},
     "output_type": "execute_result"
    }
   ],
   "source": [
    "corr_matrix[\"EnergyGenerated_kWh\"]"
   ]
  },
  {
   "cell_type": "code",
   "execution_count": 11,
   "id": "5dc20445-e4a0-4170-be73-ef68e3a2421b",
   "metadata": {},
   "outputs": [
    {
     "data": {
      "image/png": "[encoded data removed]",
      "text/plain": [
       "<Figure size 1200x800 with 16 Axes>"
      ]
     },
     "metadata": {},
     "output_type": "display_data"
    }
   ],
   "source": [
    "from pandas.plotting import scatter_matrix\n",
    "\n",
    "attributes = [\"Time\", \"SolarIrradiance_W/m^2\", \"PanelTemperature_C\",\"EnergyGenerated_kWh\"]\n",
    "scatter_matrix(data[attributes], figsize=(12, 8))\n",
    "plt.show()"
   ]
  },
  {
   "cell_type": "code",
   "execution_count": 12,
   "id": "6ca1d6d1-4b90-400f-bd89-c6b95e55c7e4",
   "metadata": {},
   "outputs": [
    {
     "data": {
      "image/png": "[encoded data removed]",
      "text/plain": [
       "<Figure size 640x480 with 1 Axes>"
      ]
     },
     "metadata": {},
     "output_type": "display_data"
    }
   ],
   "source": [
    "data.plot(kind=\"scatter\", x=\"PanelTemperature_C\", y=\"EnergyGenerated_kWh\")\n",
    "plt.show()"
   ]
  },
  {
   "cell_type": "code",
   "execution_count": 13,
   "id": "27fcf139-0ee0-400b-b98b-429a27582a70",
   "metadata": {},
   "outputs": [],
   "source": [
    "#machine leaning libraries\n",
    "import sklearn\n",
    "from sklearn.model_selection import train_test_split\n",
    "from sklearn.linear_model import LinearRegression\n",
    "from sklearn.tree import DecisionTreeRegressor\n",
    "from sklearn.ensemble import RandomForestRegressor\n",
    "from sklearn.svm import SVR\n",
    "\n",
    "#machine leanring input data transform libraries\n",
    "from sklearn.preprocessing import StandardScaler\n",
    "from sklearn.preprocessing import PolynomialFeatures\n",
    "\n",
    "#machine leanirng validation libraries\n",
    "from sklearn.model_selection import cross_val_score\n",
    "from sklearn.metrics import mean_squared_error\n",
    "from sklearn.metrics import mean_absolute_error\n"
   ]
  },
  {
   "cell_type": "markdown",
   "id": "b12d0a57-16e5-4538-b89b-77bd45bec535",
   "metadata": {},
   "source": [
    "## Split the data into a training and testing data set"
   ]
  },
  {
   "cell_type": "code",
   "execution_count": 15,
   "id": "f7bf5ca0-f244-4ca2-9ced-add4f910c922",
   "metadata": {},
   "outputs": [],
   "source": [
    "#split the data into 80% train and 20% test\n",
    "train_set, test_set = train_test_split(data, test_size=0.2, random_state=42)"
   ]
  },
  {
   "cell_type": "code",
   "execution_count": 16,
   "id": "7fa307c7-1870-4c49-aa93-15a204bb3efd",
   "metadata": {},
   "outputs": [],
   "source": [
    "#keep data needed for each input \n",
    "x_train_set = train_set.drop(\"EnergyGenerated_kWh\", axis=1)\n",
    "x_test_set = test_set.drop(\"EnergyGenerated_kWh\", axis=1)\n",
    "y_train_set = train_set[\"EnergyGenerated_kWh\"].copy()\n",
    "y_test_set = test_set[\"EnergyGenerated_kWh\"].copy()\n"
   ]
  },
  {
   "cell_type": "markdown",
   "id": "d318cb50-203b-4c22-bcac-c8076d4e3459",
   "metadata": {},
   "source": [
    "## Scale the data"
   ]
  },
  {
   "cell_type": "code",
   "execution_count": 18,
   "id": "bace8051-6e2f-4206-9e09-ca4f2d878d0c",
   "metadata": {},
   "outputs": [],
   "source": [
    "#normalize the data\n",
    "scaler = StandardScaler()\n",
    "scaler.fit(x_train_set)\n",
    "x_train_scaled = scaler.transform(x_train_set)\n",
    "scaler.fit(x_test_set)\n",
    "x_test_scaled = scaler.transform(x_test_set)"
   ]
  },
  {
   "cell_type": "code",
   "execution_count": 19,
   "id": "77df76d6-7d6b-4dc3-93e6-5d253e42cc6b",
   "metadata": {},
   "outputs": [
    {
     "data": {
      "text/html": [
       "<div>\n",
       "<style scoped>\n",
       "    .dataframe tbody tr th:only-of-type {\n",
       "        vertical-align: middle;\n",
       "    }\n",
       "\n",
       "    .dataframe tbody tr th {\n",
       "        vertical-align: top;\n",
       "    }\n",
       "\n",
       "    .dataframe thead th {\n",
       "        text-align: right;\n",
       "    }\n",
       "</style>\n",
       "<table border=\"1\" class=\"dataframe\">\n",
       "  <thead>\n",
       "    <tr style=\"text-align: right;\">\n",
       "      <th></th>\n",
       "      <th>Time</th>\n",
       "      <th>SolarIrradiance_W/m^2</th>\n",
       "      <th>PanelTemperature_C</th>\n",
       "    </tr>\n",
       "  </thead>\n",
       "  <tbody>\n",
       "    <tr>\n",
       "      <th>83</th>\n",
       "      <td>11</td>\n",
       "      <td>823.93</td>\n",
       "      <td>26</td>\n",
       "    </tr>\n",
       "    <tr>\n",
       "      <th>53</th>\n",
       "      <td>5</td>\n",
       "      <td>0.00</td>\n",
       "      <td>16</td>\n",
       "    </tr>\n",
       "    <tr>\n",
       "      <th>70</th>\n",
       "      <td>22</td>\n",
       "      <td>0.00</td>\n",
       "      <td>15</td>\n",
       "    </tr>\n",
       "    <tr>\n",
       "      <th>45</th>\n",
       "      <td>21</td>\n",
       "      <td>0.00</td>\n",
       "      <td>15</td>\n",
       "    </tr>\n",
       "    <tr>\n",
       "      <th>44</th>\n",
       "      <td>20</td>\n",
       "      <td>0.00</td>\n",
       "      <td>15</td>\n",
       "    </tr>\n",
       "  </tbody>\n",
       "</table>\n",
       "</div>"
      ],
      "text/plain": [
       "    Time  SolarIrradiance_W/m^2  PanelTemperature_C\n",
       "83    11                 823.93                  26\n",
       "53     5                   0.00                  16\n",
       "70    22                   0.00                  15\n",
       "45    21                   0.00                  15\n",
       "44    20                   0.00                  15"
      ]
     },
     "execution_count": 19,
     "metadata": {},
     "output_type": "execute_result"
    }
   ],
   "source": [
    "x_test_set.head()"
   ]
  },
  {
   "cell_type": "code",
   "execution_count": 20,
   "id": "12d6a7bb-bdb7-45f8-904a-be2236ec136d",
   "metadata": {},
   "outputs": [
    {
     "data": {
      "text/plain": [
       "array([[-0.84122777, -0.63673938, -0.47966953],\n",
       "       [ 1.58264885, -0.63673938, -0.73212717],\n",
       "       [ 1.44006788, -0.63673938, -0.73212717],\n",
       "       [ 1.2974869 , -0.63673938, -0.73212717]])"
      ]
     },
     "execution_count": 20,
     "metadata": {},
     "output_type": "execute_result"
    }
   ],
   "source": [
    "x_test_scaled[1:5,:]"
   ]
  },
  {
   "cell_type": "markdown",
   "id": "3369be1b-5f49-4623-8899-c945744c12f3",
   "metadata": {},
   "source": [
    "# Training Regression Models"
   ]
  },
  {
   "cell_type": "markdown",
   "id": "fcdabf24-ccc9-4e9b-8e4d-e75d101c7464",
   "metadata": {},
   "source": [
    "### Linear Regression"
   ]
  },
  {
   "cell_type": "code",
   "execution_count": 21,
   "id": "9ed4dda0-270e-4b1d-85e2-eac5415a358b",
   "metadata": {},
   "outputs": [
    {
     "name": "stdout",
     "output_type": "stream",
     "text": [
      "Linear Regression\n",
      "Training Set Error\n",
      "Mean Squared Error:  8.940139455490627\n",
      "Mean Absolute Error:  7.551514228717505\n"
     ]
    }
   ],
   "source": [
    "#linear regression model\n",
    "lin_reg = LinearRegression()\n",
    "lin_reg.fit(x_train_scaled, y_train_set)\n",
    "y_predictions_train = lin_reg.predict(x_train_scaled)\n",
    "\n",
    "#training set linear regression scores\n",
    "lin_mse_train = mean_squared_error(y_train_set, y_predictions_train)\n",
    "lin_rmse_train = np.sqrt(lin_mse_train)\n",
    "print(\"Linear Regression\")\n",
    "print(\"Training Set Error\")\n",
    "print(\"Mean Squared Error: \", lin_rmse_train)\n",
    "lin_mae_train = mean_absolute_error(y_train_set, y_predictions_train)\n",
    "print(\"Mean Absolute Error: \", lin_mae_train)\n"
   ]
  },
  {
   "cell_type": "code",
   "execution_count": 23,
   "id": "87e5df91-25e0-4480-9a90-0a5b2f272d51",
   "metadata": {},
   "outputs": [
    {
     "data": {
      "image/png": "[encoded data removed]",
      "text/plain": [
       "<Figure size 640x480 with 1 Axes>"
      ]
     },
     "metadata": {},
     "output_type": "display_data"
    }
   ],
   "source": [
    "# Make the plot.\n",
    "plt.clf()\n",
    "plt.plot(x_train_set[\"SolarIrradiance_W/m^2\"], y_train_set, 'o', color='grey', label = 'Actual Output')\n",
    "plt.plot(x_train_set[\"SolarIrradiance_W/m^2\"], y_predictions_train, 'o', color='red', label = 'Predicted Output')\n",
    "plt.xlabel(\"SolarIrradiance_W/m^2\")\n",
    "plt.ylabel(\"Enegy\")\n",
    "plt.title(\"Linear Regression - Training Set\")\n",
    "plt.legend()\n",
    "plt.ylim((-3000, 20000))\n",
    "plt.xlim((-1,20))\n",
    "plt.savefig(\"linear_regression_train_set.png\")"
   ]
  },
  {
   "cell_type": "markdown",
   "id": "eeca4887-876e-48b3-ad8b-74e2fa7162ca",
   "metadata": {},
   "source": [
    "### Polynomial Regression"
   ]
  },
  {
   "cell_type": "code",
   "execution_count": 24,
   "id": "68bab5fd-a841-4608-a056-d345da393417",
   "metadata": {},
   "outputs": [
    {
     "name": "stdout",
     "output_type": "stream",
     "text": [
      "Degree 3 Polynomial Regression\n",
      "Training Set Error\n",
      "Mean Squared Error:  8.17687187241264\n",
      "Mean Absolute Error:  6.766689969237291\n"
     ]
    }
   ],
   "source": [
    "# PolynomialFeatures (prepreprocessing) \n",
    "poly = PolynomialFeatures(degree=3)\n",
    "X_train = poly.fit_transform(x_train_scaled)\n",
    "\n",
    "#linear regression model\n",
    "linpoly = LinearRegression()\n",
    "linpoly.fit(X_train, y_train_set)\n",
    "y_predictions_train = linpoly.predict(X_train)\n",
    "\n",
    "#linear regression scores\n",
    "linpoly_mse = mean_squared_error(y_train_set, y_predictions_train)\n",
    "linpoly_rmse = np.sqrt(linpoly_mse)\n",
    "print('Degree '+ str(poly.degree) +' Polynomial Regression')\n",
    "print(\"Training Set Error\")\n",
    "print(\"Mean Squared Error: \", linpoly_rmse)\n",
    "linpoly_mae = mean_absolute_error(y_train_set, y_predictions_train)\n",
    "print(\"Mean Absolute Error: \", linpoly_mae)"
   ]
  },
  {
   "cell_type": "code",
   "execution_count": null,
   "id": "7106a5e5-99fa-4865-8f27-c90aa4c6e37e",
   "metadata": {},
   "outputs": [],
   "source": [
    "## Make the plot.\n",
    "plt.clf()\n",
    "plt.plot(x_train_set[\"Speed\"], y_train_set, 'o', color='grey', label = 'Actual Output')\n",
    "plt.plot(x_train_set[\"Speed\"], y_predictions_train, 'o', color='red', label = 'Predicted Output')\n",
    "plt.xlabel(\"Speed\")\n",
    "plt.ylabel(\"Enegy\")\n",
    "plt.title('Degree '+ str(poly.degree) +' Polynomial Regression - Training Set')\n",
    "plt.legend()\n",
    "plt.ylim((-3000, 20000))\n",
    "plt.xlim((-1,20))\n",
    "plt.savefig(\"polynomial_regression_train_set.png\")"
   ]
  }
 ],
 "metadata": {
  "kernelspec": {
   "display_name": "Python 3 (ipykernel)",
   "language": "python",
   "name": "python3"
  },
  "language_info": {
   "codemirror_mode": {
    "name": "ipython",
    "version": 3
   },
   "file_extension": ".py",
   "mimetype": "text/x-python",
   "name": "python",
   "nbconvert_exporter": "python",
   "pygments_lexer": "ipython3",
   "version": "3.12.3"
  }
 },
 "nbformat": 4,
 "nbformat_minor": 5
}
